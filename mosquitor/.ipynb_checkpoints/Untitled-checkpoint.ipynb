{
 "cells": [
  {
   "cell_type": "code",
   "execution_count": 31,
   "metadata": {},
   "outputs": [],
   "source": [
    "from load import *\n",
    "FEATURE_EXT = \"_feat.name\"\n",
    "X_TRAIN_EXT = \"_train.data\"\n",
    "Y_TRAIN_EXT = \"_train.solution\"\n",
    "X_TEST_EXT = \"_test.data\"\n",
    "X_VALID_EXT = \"_valid.data\"\n",
    "CHALLENGE_NAME = \"malaria\"\n",
    "DATA_DIR = PRE_DATA_DIR"
   ]
  },
  {
   "cell_type": "code",
   "execution_count": 8,
   "metadata": {},
   "outputs": [],
   "source": [
    "DATA_DIR_RAW = '../malaria_input_data_raw'\n",
    "DIRECTORY = './figs/'\n",
    "directory = DIRECTORY + \"Raw_Results/\"\n",
    "data_dir = DATA_DIR_RAW\n",
    "DATA_NAME = 'malaria'"
   ]
  },
  {
   "cell_type": "code",
   "execution_count": 26,
   "metadata": {},
   "outputs": [],
   "source": [
    "d_train = load_train(data_dir, DATA_NAME)"
   ]
  },
  {
   "cell_type": "code",
   "execution_count": 14,
   "metadata": {},
   "outputs": [],
   "source": [
    "test = load_images(DATA_DIR_RAW, DATA_NAME)"
   ]
  },
  {
   "cell_type": "code",
   "execution_count": 33,
   "metadata": {},
   "outputs": [
    {
     "ename": "NameError",
     "evalue": "name 'n_compo' is not defined",
     "output_type": "error",
     "traceback": [
      "\u001b[0;31m---------------------------------------------------------------------------\u001b[0m",
      "\u001b[0;31mNameError\u001b[0m                                 Traceback (most recent call last)",
      "\u001b[0;32m<ipython-input-33-20bb2be4f647>\u001b[0m in \u001b[0;36m<module>\u001b[0;34m\u001b[0m\n\u001b[1;32m      1\u001b[0m \u001b[0;32mfrom\u001b[0m \u001b[0msklearn\u001b[0m\u001b[0;34m.\u001b[0m\u001b[0mdecomposition\u001b[0m \u001b[0;32mimport\u001b[0m \u001b[0mPCA\u001b[0m\u001b[0;34m\u001b[0m\u001b[0;34m\u001b[0m\u001b[0m\n\u001b[1;32m      2\u001b[0m \u001b[0;32mfrom\u001b[0m \u001b[0msklearn\u001b[0m\u001b[0;34m.\u001b[0m\u001b[0mbase\u001b[0m \u001b[0;32mimport\u001b[0m \u001b[0mBaseEstimator\u001b[0m\u001b[0;34m,\u001b[0m\u001b[0mTransformerMixin\u001b[0m\u001b[0;34m\u001b[0m\u001b[0;34m\u001b[0m\u001b[0m\n\u001b[0;32m----> 3\u001b[0;31m \u001b[0;32mclass\u001b[0m \u001b[0mPreproRaw\u001b[0m\u001b[0;34m(\u001b[0m\u001b[0mBaseEstimator\u001b[0m\u001b[0;34m,\u001b[0m \u001b[0mTransformerMixin\u001b[0m\u001b[0;34m,\u001b[0m\u001b[0mn_compo\u001b[0m\u001b[0;34m)\u001b[0m\u001b[0;34m:\u001b[0m\u001b[0;34m\u001b[0m\u001b[0;34m\u001b[0m\u001b[0m\n\u001b[0m\u001b[1;32m      4\u001b[0m     \u001b[0;32mdef\u001b[0m \u001b[0m__init__\u001b[0m\u001b[0;34m(\u001b[0m\u001b[0mself\u001b[0m\u001b[0;34m)\u001b[0m\u001b[0;34m:\u001b[0m\u001b[0;34m\u001b[0m\u001b[0;34m\u001b[0m\u001b[0m\n\u001b[1;32m      5\u001b[0m         '''\n",
      "\u001b[0;31mNameError\u001b[0m: name 'n_compo' is not defined"
     ]
    }
   ],
   "source": [
    "from sklearn.decomposition import PCA\n",
    "from sklearn.base import BaseEstimator,TransformerMixin\n",
    "class PreproRaw(BaseEstimator, TransformerMixin,n_compo):\n",
    "    def __init__(self):\n",
    "        '''\n",
    "        Best preprocessing for classification in the preprocessed challenge\n",
    "         args:None\n",
    "        '''\n",
    "        self.pca = PCA(n_components=n_compo)\n",
    "    def fit(self, X, y=None):\n",
    "        '''\n",
    "        fit preprocessing with X data.\n",
    "        Args:\n",
    "            X: data matrix of dim num_train_samples * num_feat.\n",
    "            y: label matrix of dim num_train_samples * num_labels.\n",
    "        Both inputs are numpy arrays.\n",
    "        '''\n",
    "        self.StSc.fit(X_new, y)\n",
    "        self.kmeans.fit(X_new)\n",
    "        return self\n",
    "\n",
    "    def transform(self, X):\n",
    "        '''\n",
    "        transform X data matrix.\n",
    "        Args:\n",
    "            X: data matrix of dim num_train_samples * num_feat.\n",
    "        numpy arrays.\n",
    "        '''\n",
    "        self.StSc.transform(X_new)\n",
    "        self.kmeans.transform(X_new)\n",
    "        \n",
    "        return X_new"
   ]
  }
 ],
 "metadata": {
  "kernelspec": {
   "display_name": "Python 3",
   "language": "python",
   "name": "python3"
  },
  "language_info": {
   "codemirror_mode": {
    "name": "ipython",
    "version": 3
   },
   "file_extension": ".py",
   "mimetype": "text/x-python",
   "name": "python",
   "nbconvert_exporter": "python",
   "pygments_lexer": "ipython3",
   "version": "3.7.4"
  }
 },
 "nbformat": 4,
 "nbformat_minor": 2
}
